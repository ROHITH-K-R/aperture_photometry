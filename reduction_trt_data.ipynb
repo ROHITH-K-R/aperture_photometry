{
 "cells": [
  {
   "cell_type": "markdown",
   "metadata": {},
   "source": [
    "# Reduction for the TRT data"
   ]
  },
  {
   "cell_type": "markdown",
   "metadata": {},
   "source": [
    "The script to work with the TRT data. This code will perform the reduction and susequently aperture photometry on the TRT data."
   ]
  },
  {
   "cell_type": "markdown",
   "metadata": {},
   "source": [
    "Following packages are necessary to import:"
   ]
  },
  {
   "cell_type": "code",
   "execution_count": 11,
   "metadata": {},
   "outputs": [],
   "source": [
    "import numpy as np\n",
    "import matplotlib as mp\n",
    "import ccdproc,os,sys,time,random\n",
    "from astropy import units as u\n",
    "import matplotlib.pyplot as plt\n",
    "from astropy.io import fits\n",
    "from astropy.time import Time\n",
    "from glob import glob\n",
    "#from astroquery.astrometry_net import AstrometryNet\n",
    "from astropy.wcs import WCS\n",
    "import astroalign as aa\n",
    "from astropy.nddata import CCDData\n",
    "from astropy.stats import sigma_clipped_stats, SigmaClip\n",
    "from astropy.visualization import ImageNormalize, LogStretch\n",
    "from matplotlib.ticker import LogLocator\n",
    "from astropy.stats import SigmaClip, mad_std\n",
    "import os"
   ]
  },
  {
   "cell_type": "markdown",
   "metadata": {},
   "source": [
    "# 1 Aligning the science frames using astroalign for all the bands."
   ]
  },
  {
   "cell_type": "code",
   "execution_count": 49,
   "metadata": {},
   "outputs": [
    {
     "name": "stdout",
     "output_type": "stream",
     "text": [
      "80\n"
     ]
    },
    {
     "ename": "MaxIterError",
     "evalue": "Max iterations exceeded while trying to find acceptable transformation.",
     "output_type": "error",
     "traceback": [
      "\u001b[0;31m-------------------------------------------------------------------------\u001b[0m",
      "\u001b[0;31mMaxIterError\u001b[0m                            Traceback (most recent call last)",
      "\u001b[0;32m<ipython-input-49-335a342447d7>\u001b[0m in \u001b[0;36m<module>\u001b[0;34m\u001b[0m\n\u001b[1;32m     12\u001b[0m     \u001b[0msource_image\u001b[0m\u001b[0;34m=\u001b[0m\u001b[0mimage_data\u001b[0m\u001b[0;34m[\u001b[0m\u001b[0;36m0\u001b[0m\u001b[0;34m]\u001b[0m\u001b[0;34m.\u001b[0m\u001b[0mdata\u001b[0m\u001b[0;34m\u001b[0m\u001b[0;34m\u001b[0m\u001b[0m\n\u001b[1;32m     13\u001b[0m     \u001b[0mheader\u001b[0m\u001b[0;34m=\u001b[0m\u001b[0mimage_data\u001b[0m\u001b[0;34m[\u001b[0m\u001b[0;36m0\u001b[0m\u001b[0;34m]\u001b[0m\u001b[0;34m.\u001b[0m\u001b[0mheader\u001b[0m\u001b[0;34m\u001b[0m\u001b[0;34m\u001b[0m\u001b[0m\n\u001b[0;32m---> 14\u001b[0;31m     \u001b[0mimage_aligned\u001b[0m\u001b[0;34m,\u001b[0m\u001b[0mfootprint\u001b[0m\u001b[0;34m=\u001b[0m\u001b[0maa\u001b[0m\u001b[0;34m.\u001b[0m\u001b[0mregister\u001b[0m\u001b[0;34m(\u001b[0m\u001b[0msource_image\u001b[0m\u001b[0;34m,\u001b[0m\u001b[0mreference_image\u001b[0m\u001b[0;34m)\u001b[0m\u001b[0;34m\u001b[0m\u001b[0;34m\u001b[0m\u001b[0m\n\u001b[0m\u001b[1;32m     15\u001b[0m \u001b[0;34m\u001b[0m\u001b[0m\n\u001b[1;32m     16\u001b[0m     \u001b[0maligned_file\u001b[0m\u001b[0;34m=\u001b[0m\u001b[0mfiles\u001b[0m\u001b[0;34m[\u001b[0m\u001b[0mi\u001b[0m\u001b[0;34m]\u001b[0m\u001b[0;34m.\u001b[0m\u001b[0mreplace\u001b[0m\u001b[0;34m(\u001b[0m\u001b[0;34m'.fits'\u001b[0m\u001b[0;34m,\u001b[0m\u001b[0;34m''\u001b[0m\u001b[0;34m)\u001b[0m\u001b[0;34m\u001b[0m\u001b[0;34m\u001b[0m\u001b[0m\n",
      "\u001b[0;32m~/anaconda3/lib/python3.6/site-packages/astroalign.py\u001b[0m in \u001b[0;36mregister\u001b[0;34m(source, target, fill_value, propagate_mask)\u001b[0m\n\u001b[1;32m    424\u001b[0m \u001b[0;34m\u001b[0m\u001b[0m\n\u001b[1;32m    425\u001b[0m     \"\"\"\n\u001b[0;32m--> 426\u001b[0;31m     \u001b[0mt\u001b[0m\u001b[0;34m,\u001b[0m \u001b[0m__\u001b[0m \u001b[0;34m=\u001b[0m \u001b[0mfind_transform\u001b[0m\u001b[0;34m(\u001b[0m\u001b[0msource\u001b[0m\u001b[0;34m=\u001b[0m\u001b[0msource\u001b[0m\u001b[0;34m,\u001b[0m \u001b[0mtarget\u001b[0m\u001b[0;34m=\u001b[0m\u001b[0mtarget\u001b[0m\u001b[0;34m)\u001b[0m\u001b[0;34m\u001b[0m\u001b[0;34m\u001b[0m\u001b[0m\n\u001b[0m\u001b[1;32m    427\u001b[0m     aligned_image, footprint = apply_transform(\n\u001b[1;32m    428\u001b[0m         \u001b[0mt\u001b[0m\u001b[0;34m,\u001b[0m \u001b[0msource\u001b[0m\u001b[0;34m,\u001b[0m \u001b[0mtarget\u001b[0m\u001b[0;34m,\u001b[0m \u001b[0mfill_value\u001b[0m\u001b[0;34m,\u001b[0m \u001b[0mpropagate_mask\u001b[0m\u001b[0;34m\u001b[0m\u001b[0;34m\u001b[0m\u001b[0m\n",
      "\u001b[0;32m~/anaconda3/lib/python3.6/site-packages/astroalign.py\u001b[0m in \u001b[0;36mfind_transform\u001b[0;34m(source, target)\u001b[0m\n\u001b[1;32m    305\u001b[0m     \u001b[0;32melse\u001b[0m\u001b[0;34m:\u001b[0m\u001b[0;34m\u001b[0m\u001b[0;34m\u001b[0m\u001b[0m\n\u001b[1;32m    306\u001b[0m         best_t, inlier_ind = _ransac(\n\u001b[0;32m--> 307\u001b[0;31m             \u001b[0mmatches\u001b[0m\u001b[0;34m,\u001b[0m \u001b[0minv_model\u001b[0m\u001b[0;34m,\u001b[0m \u001b[0;36m1\u001b[0m\u001b[0;34m,\u001b[0m \u001b[0mmax_iter\u001b[0m\u001b[0;34m,\u001b[0m \u001b[0mPIXEL_TOL\u001b[0m\u001b[0;34m,\u001b[0m \u001b[0mmin_matches\u001b[0m\u001b[0;34m\u001b[0m\u001b[0;34m\u001b[0m\u001b[0m\n\u001b[0m\u001b[1;32m    308\u001b[0m         )\n\u001b[1;32m    309\u001b[0m     \u001b[0mtriangle_inliers\u001b[0m \u001b[0;34m=\u001b[0m \u001b[0mmatches\u001b[0m\u001b[0;34m[\u001b[0m\u001b[0minlier_ind\u001b[0m\u001b[0;34m]\u001b[0m\u001b[0;34m\u001b[0m\u001b[0;34m\u001b[0m\u001b[0m\n",
      "\u001b[0;32m~/anaconda3/lib/python3.6/site-packages/astroalign.py\u001b[0m in \u001b[0;36m_ransac\u001b[0;34m(data, model, min_data_points, max_iter, thresh, min_matches)\u001b[0m\n\u001b[1;32m    530\u001b[0m     \u001b[0;32mif\u001b[0m \u001b[0mbestfit\u001b[0m \u001b[0;32mis\u001b[0m \u001b[0;32mNone\u001b[0m\u001b[0;34m:\u001b[0m\u001b[0;34m\u001b[0m\u001b[0;34m\u001b[0m\u001b[0m\n\u001b[1;32m    531\u001b[0m         raise MaxIterError(\n\u001b[0;32m--> 532\u001b[0;31m             \u001b[0;34m\"Max iterations exceeded while trying to find \"\u001b[0m\u001b[0;34m\u001b[0m\u001b[0;34m\u001b[0m\u001b[0m\n\u001b[0m\u001b[1;32m    533\u001b[0m             \u001b[0;34m\"acceptable transformation.\"\u001b[0m\u001b[0;34m\u001b[0m\u001b[0;34m\u001b[0m\u001b[0m\n\u001b[1;32m    534\u001b[0m         )\n",
      "\u001b[0;31mMaxIterError\u001b[0m: Max iterations exceeded while trying to find acceptable transformation."
     ]
    }
   ],
   "source": [
    "image_path='/mnt/eac99553-b108-449e-bf41-0716c975df8b/TRT-data/NGC 5947/band_wise/I_band/'\n",
    "calibration_path='/mnt/eac99553-b108-449e-bf41-0716c975df8b/TRT-data/calibration/'\n",
    "filename='*I.fits'\n",
    "files=sorted(glob(os.path.join(image_path,filename)))\n",
    "print(len(files))\n",
    "\n",
    "ref_image=fits.open(files[2])\n",
    "reference_image=ref_image[0].data\n",
    "\n",
    "for i in range(0,1):\n",
    "    image_data=fits.open(files[i])\n",
    "    source_image=image_data[0].data\n",
    "    header=image_data[0].header\n",
    "    image_aligned,footprint=aa.register(source_image,reference_image)\n",
    "\n",
    "    aligned_file=files[i].replace('.fits','')\n",
    "    fits.writeto(aligned_file+'_aligned'+'.fits',image_aligned,header,overwrite=True)\n",
    "    #os.system(\"mv *aligned* aligned/\")\n",
    "    print('No. %i alignment done'%i)"
   ]
  },
  {
   "cell_type": "markdown",
   "metadata": {},
   "source": [
    "# 3. Aligning the images"
   ]
  },
  {
   "cell_type": "markdown",
   "metadata": {},
   "source": [
    "Astro-Align package is used to alighn the images\n",
    "\n",
    "\n",
    "INPUT:\n",
    "\n",
    "    path: The directory where the images are kept (string)\n",
    "    filename: The first few characters and the extension of the images (string). Example:\n",
    "    j0946*fits, HD1104*fits etc.\n",
    "    ref_image: Reference image which will be used to align the images.\n",
    "\n",
    "OUTPUT:\n",
    "\n",
    "    aligned images.\n"
   ]
  },
  {
   "cell_type": "code",
   "execution_count": 14,
   "metadata": {},
   "outputs": [
    {
     "name": "stdout",
     "output_type": "stream",
     "text": [
      "No. 0 done\n",
      "No. 1 done\n",
      "No. 2 done\n",
      "No. 3 done\n",
      "No. 4 done\n",
      "No. 5 done\n",
      "No. 6 done\n",
      "No. 7 done\n",
      "No. 8 done\n",
      "No. 9 done\n",
      "No. 10 done\n",
      "No. 11 done\n",
      "No. 12 done\n",
      "No. 13 done\n",
      "No. 14 done\n",
      "No. 15 done\n",
      "No. 16 done\n",
      "No. 17 done\n",
      "No. 18 done\n",
      "No. 19 done\n",
      "No. 20 done\n",
      "No. 21 done\n",
      "No. 22 done\n",
      "No. 23 done\n",
      "No. 24 done\n"
     ]
    }
   ],
   "source": [
    "filename=\"*sliced*fits\"\n",
    "ref_image=\"j0947_i_1_sliced.fits\"\n",
    "nfiles=sorted(glob(path+filename))\n",
    "image_data=fits.open(path+ref_image)\n",
    "reference_image=image_data[0].data\n",
    "for i in range(len(nfiles)):\n",
    "    image_data=fits.open(nfiles[i])\n",
    "    source_image=image_data[0].data\n",
    "    header=image_data[0].header\n",
    "    image_aligned,footprint=aa.register(source_image,reference_image)\n",
    "\n",
    "    aligned_file=nfiles[i].replace('.fits','')\n",
    "    fits.writeto(aligned_file+'_aligned'+'.fits',image_aligned,header,overwrite=True)\n",
    "\n",
    "    print('No. %i alignment done'%i)\n"
   ]
  },
  {
   "cell_type": "markdown",
   "metadata": {},
   "source": [
    "# Cleaning the images"
   ]
  },
  {
   "cell_type": "markdown",
   "metadata": {},
   "source": [
    "This module is meant for cleaning the images. The tasks to be included are: bias correction, flat correction, trimming, overscan as well as the cosmic ray removal from the science cases. (For the time we are skipping the overscan and trimming part.)\n",
    "\n",
    "INPUT:\n",
    "\n",
    "    path: The directory where the images are kept (string)\n",
    "    filename: The first few characters and the extension of the images (string). Example:\n",
    "    j0946*fits, HD1104*fits etc.\n",
    "\n",
    "OUTPUT:\n",
    "\n",
    "\n",
    "    cleaned images in the new directory: path/cleaned"
   ]
  },
  {
   "cell_type": "markdown",
   "metadata": {},
   "source": [
    "# a) BIAS correction."
   ]
  },
  {
   "cell_type": "code",
   "execution_count": 21,
   "metadata": {},
   "outputs": [
    {
     "name": "stdout",
     "output_type": "stream",
     "text": [
      "INFO: using the unit adu passed to the FITS reader instead of the unit adu in the FITS file. [astropy.nddata.ccddata]\n",
      "Master bias generated\n",
      " Mean and median of the masterbias:  515.4987641731899 515.5\n"
     ]
    }
   ],
   "source": [
    "gain = 2 * u.electron / u.adu  # gain and readout noise are properties of the CCD and will change for different CCDs.\n",
    "readnoise = 7.5 * u.electron\n",
    "\n",
    "#ra=input('Enter the RA of the source:   ')\n",
    "#dec=input('Enter the DEC of the source: ')\n",
    "\n",
    "\n",
    "bias_files = sorted(glob(os.path.join(path,'bias*.fits')))\n",
    "biaslist = []\n",
    "for i in range (0,len(bias_files)):\n",
    "    data= ccdproc.CCDData.read(bias_files[i],unit='adu')\n",
    "        #data = ccdproc.create_deviation(data, gain=gain, readnoise=readnoise)\n",
    "        #data= data-(data.uncertainty.array)\n",
    "    biaslist.append(data)\n",
    "    \n",
    "masterbias = ccdproc.combine(biaslist,method='average',sigma_clip=True, sigma_clip_low_thresh=5, sigma_clip_high_thresh=5,\n",
    "                             sigma_clip_func=np.ma.median, sigma_clip_dev_func=mad_std)\n",
    "masterbias.write('masterbias.fits', overwrite=True)\n",
    "mbias=ccdproc.CCDData.read('masterbias.fits',unit='adu')\n",
    "print('Master bias generated')\n",
    "print(\" Mean and median of the masterbias: \",np.mean(masterbias), np.median(masterbias))\n",
    "\n",
    "\n"
   ]
  },
  {
   "cell_type": "markdown",
   "metadata": {},
   "source": [
    "# b) Flat correction."
   ]
  },
  {
   "cell_type": "code",
   "execution_count": 22,
   "metadata": {},
   "outputs": [
    {
     "name": "stdout",
     "output_type": "stream",
     "text": [
      "INFO: using the unit adu passed to the FITS reader instead of the unit adu in the FITS file. [astropy.nddata.ccddata]\n",
      "Master flat generated\n",
      " Mean and median of the masterflat:  0.9992749321566833 0.9999320144129445\n"
     ]
    }
   ],
   "source": [
    "flat_files=sorted(glob(os.path.join(dir,'flat*.fits')))\n",
    "flatlist = []\n",
    "for j in range(0,len(flat_files)):\n",
    "    flat=ccdproc.CCDData.read(flat_files[j],unit='adu')\n",
    "    flat_bias_removed=ccdproc.subtract_bias(flat,masterbias)\n",
    "    flatlist.append(flat_bias_removed)\n",
    "\n",
    "    def inv_median(a):\n",
    "        return 1 / np.median(a)\n",
    "\n",
    "masterflat = ccdproc.combine(flatlist,method='median', scale=inv_median,\n",
    "                                 sigma_clip=True, sigma_clip_low_thresh=5, sigma_clip_high_thresh=5,\n",
    "                                 sigma_clip_func=np.ma.median, sigma_clip_dev_func=mad_std)\n",
    "masterflat.write('masterflat.fits', overwrite=True)\n",
    "mflat=ccdproc.CCDData.read('masterflat.fits',unit='adu')\n",
    "print('Master flat generated')\n",
    "print(\" Mean and median of the masterflat: \",np.mean(masterflat), np.median(masterflat))\n",
    "\n"
   ]
  },
  {
   "cell_type": "markdown",
   "metadata": {},
   "source": [
    "# c) Cosmic Ray removal."
   ]
  },
  {
   "cell_type": "code",
   "execution_count": null,
   "metadata": {},
   "outputs": [],
   "source": [
    "filename=\"*aligned*fits\"\n",
    "file_names = sorted(glob(os.path.join(dir,filename)))\n",
    "for i in range(0,len(file_names)):\n",
    "    image=ccdproc.CCDData.read(file_names[i],unit='adu')\n",
    "    header=fits.getheader(file_names[i],0)\n",
    "    bias_subtracted = ccdproc.subtract_bias(image, masterbias)\n",
    "    flat_corrected = ccdproc.flat_correct(bias_subtracted, masterflat)\n",
    "    cr_cleaned = ccdproc.cosmicray_lacosmic(flat_corrected,readnoise=7.5, sigclip=5,satlevel=65535,niter=20,cleantype='meanmask',gain_apply=True)\n",
    "        #print('Cosmic rays removed')\n",
    "    clean_file=file_names[i].replace('.fits','')\n",
    "    fits.writeto(clean_file+'_cleaned.fits',cr_cleaned,header,overwrite=True)\n",
    "    print('Image no-%i has been cleaned'%i)"
   ]
  }
 ],
 "metadata": {
  "kernelspec": {
   "display_name": "Python 3",
   "language": "python",
   "name": "python3"
  },
  "language_info": {
   "codemirror_mode": {
    "name": "ipython",
    "version": 3
   },
   "file_extension": ".py",
   "mimetype": "text/x-python",
   "name": "python",
   "nbconvert_exporter": "python",
   "pygments_lexer": "ipython3",
   "version": "3.6.10"
  }
 },
 "nbformat": 4,
 "nbformat_minor": 4
}

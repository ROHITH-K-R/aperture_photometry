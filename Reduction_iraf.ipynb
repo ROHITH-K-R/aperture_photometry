{
 "cells": [
  {
   "cell_type": "markdown",
   "metadata": {},
   "source": [
    "# Reduction of 1.3m images using IRAF"
   ]
  },
  {
   "cell_type": "markdown",
   "metadata": {},
   "source": [
    "We demonstrate the reduction of images obtained through the 2k CCD installed at ARIES Devasthal Observatory. The reduction will be performed using standard IRAF tasks called through PyRAF. (06/02/2020)"
   ]
  },
  {
   "cell_type": "markdown",
   "metadata": {},
   "source": [
    "# 1. Importing the packages"
   ]
  },
  {
   "cell_type": "code",
   "execution_count": 5,
   "metadata": {},
   "outputs": [],
   "source": [
    "from pyraf import iraf\n",
    "from iraf import noao,imred,specred\n",
    "from stsci import tools\n",
    "import numpy as np\n",
    "import os\n",
    "import sys"
   ]
  },
  {
   "cell_type": "code",
   "execution_count": null,
   "metadata": {
    "scrolled": true
   },
   "outputs": [
    {
     "name": "stdout",
     "output_type": "stream",
     "text": [
      "\n",
      "Feb  6 15:29: IMCOMBINE\n",
      "  combine = median, scale = none, zero = none, weight = none\n",
      "  blank = 0.\n",
      "                Images \n",
      "            bias_1.fits\n",
      "            bias_2.fits\n",
      "            bias_3.fits\n",
      "            bias_4.fits\n",
      "            bias_5.fits\n",
      "\n",
      "  Output image = mbias, ncombine = 5\n"
     ]
    }
   ],
   "source": [
    "os.system(\"ls *bias* > bias.in\")\n",
    "iraf.imcombine('@bias.in', 'mbias', combine=\"median\",rdnoise=7.5,gain=2.0)\n",
    "os.system(\"ls flat* j0644* > subbias.in\")\n",
    "os.system(\"sed s/.fits/b.fits/g subbias.in > subbias.out\")\n",
    "iraf.imarith('@subbias.in','-','mbias.fits','@subbias.out')\n",
    "print(\"***********************************************************\")\n",
    "print(\"Bias correction done!\")"
   ]
  },
  {
   "cell_type": "code",
   "execution_count": null,
   "metadata": {},
   "outputs": [],
   "source": []
  },
  {
   "cell_type": "code",
   "execution_count": null,
   "metadata": {},
   "outputs": [],
   "source": [
    "os.system(\"ls flat*.fits > flat.in\")\n",
    "iraf.imcombine('@flat.in', 'mflat.fits', combine=\"median\",rdnoise=7.5,gain=2.0)\n",
    "\n",
    "#making master flat.\n",
    "iraf.response(\"mflat\",\"mflat\", \"nmflat\", interactive=\"no\", threshold=\"INDEF\", sample=\"*\", naverage=1,\n",
    "      function=\"spline3\", order=20, low_reject=0., high_reject=0., niterate=1,\n",
    "      grow=0., graphics=\"stdgraph\", cursor=\"\")\n",
    "\n",
    "#iraf.imstat('nmflat.fits')    \n",
    "os.system(\"ls J105829*b.fits GD248*b.fits > flatf.in\")\n",
    "os.system(\"sed s/b.fits/bf.fits/g flatf.in > flatf.out\")\n",
    "iraf.imarith('@flatf.in','/','nmflat.fits','@flatf.out')\n",
    "print(\"***********************************************************\")\n",
    "print(\"Flat correction done!\")\n"
   ]
  },
  {
   "cell_type": "markdown",
   "metadata": {},
   "source": [
    "# For cosmic ray removal, we will use Lacosmic."
   ]
  },
  {
   "cell_type": "code",
   "execution_count": null,
   "metadata": {},
   "outputs": [],
   "source": [
    "# Removal of cosmic rays from the images\n",
    "array, header=cosmics.fromfits(\"J105829_250_3500_4_Grism_7_2015_06_17_yf170018bf.fits\")\n",
    "c= cosmics.cosmicsimage(array, gain=1.22, readnoise=4.8, sigclip=4.5, sigfrac=0.3, objlim=4.5)\n",
    "c.run(maxiter=4)\n",
    "cosmics.tofits(\"J105829_250_3500_4_Grism_7_2015_06_17_yf170018bfc.fits\", c.cleanarray, header)\n",
    "\n",
    "array, header=cosmics.fromfits(\"GD248_standard_250_3500_4_Grism_7_yf170031bf.fits\")\n",
    "c= cosmics.cosmicsimage(array, gain=1.22, readnoise=4.8, sigclip=4.5, sigfrac=0.3, objlim=4.5)\n",
    "c.run(maxiter=4)\n",
    "cosmics.tofits(\"GD248_standard_250_3500_4_Grism_7_yf170031bfc.fits\", c.cleanarray, header)\n",
    "\n",
    "print(\"***********************************************************\")"
   ]
  },
  {
   "cell_type": "code",
   "execution_count": null,
   "metadata": {},
   "outputs": [],
   "source": []
  }
 ],
 "metadata": {
  "kernelspec": {
   "display_name": "Python 3",
   "language": "python",
   "name": "python3"
  },
  "language_info": {
   "codemirror_mode": {
    "name": "ipython",
    "version": 3
   },
   "file_extension": ".py",
   "mimetype": "text/x-python",
   "name": "python",
   "nbconvert_exporter": "python",
   "pygments_lexer": "ipython3",
   "version": "3.6.8"
  }
 },
 "nbformat": 4,
 "nbformat_minor": 2
}

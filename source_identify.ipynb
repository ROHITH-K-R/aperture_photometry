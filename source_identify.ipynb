{
 "cells": [
  {
   "cell_type": "markdown",
   "metadata": {},
   "source": [
    "#  Procedure to identify the sources and get FWHM (gaussian) for aperture determination."
   ]
  },
  {
   "cell_type": "markdown",
   "metadata": {},
   "source": [
    "To perform aperture photometry, we need to determine apertures and before that mark the sources we are interested in. The algorithms usually give 1000+ sources in a single frame based on our threshold. Performing photometry on these detected sources is a waste of time as well as computing power. Thus we need to mark the source and a few comparision stars depending on our requirements.\n",
    "\n",
    "\n",
    "We use the PYTHON package GINGA to estimate the location (xcentroid, ycentroid) of the sources and then calculate the FWHM for the Gaussian/Moffat fits to the profiles in order to estimate the required aperture size for photometric calculation. "
   ]
  },
  {
   "cell_type": "code",
   "execution_count": 1,
   "metadata": {},
   "outputs": [],
   "source": [
    "import ginga\n",
    "from ginga.web.pgw import ipg\n",
    "import numpy as np\n",
    "from ginga.util import iqcalc"
   ]
  },
  {
   "cell_type": "markdown",
   "metadata": {},
   "source": [
    "Now we need a display environment for interactive inputs. We have plenty of options for this purpose, but we choose a localhost so that we can display the image in the web browser itself. The browser should support html5. No need to enter any other window. It will also save a lot of pointing and clicking!!!\n",
    "\n",
    "We need to make sure the port we will choose is not occupied yet otherwise a port busy error will be there.\n"
   ]
  },
  {
   "cell_type": "code",
   "execution_count": 2,
   "metadata": {},
   "outputs": [],
   "source": [
    "use_opencv = False\n",
    "server = ipg.make_server(host='localhost', port=8711, use_opencv=use_opencv)\n",
    "server.start(no_ioloop=True)"
   ]
  },
  {
   "cell_type": "markdown",
   "metadata": {},
   "source": [
    "Now the server is started at localhost:xxxx. We will insert a viewer onto that and then we will load a fits file in that viewer. This image can be any of the science frames we are analysing, but for best results we should choose the best image we can make out of the multiple images intuitively ( best seeing conditions, dark night etc.)"
   ]
  },
  {
   "cell_type": "code",
   "execution_count": 3,
   "metadata": {},
   "outputs": [],
   "source": [
    "tv = server.get_viewer('tv')\n",
    "tv.load('test.fits')\n",
    "tv.open()\n"
   ]
  },
  {
   "cell_type": "markdown",
   "metadata": {},
   "source": [
    "Sometimes the viewer will not open by default. So, we get the address manually and insert it in the browser. It will display it then."
   ]
  },
  {
   "cell_type": "code",
   "execution_count": 4,
   "metadata": {},
   "outputs": [
    {
     "data": {
      "text/plain": [
       "'http://localhost:8711/app?id=tv'"
      ]
     },
     "execution_count": 4,
     "metadata": {},
     "output_type": "execute_result"
    }
   ],
   "source": [
    "tv.url"
   ]
  },
  {
   "cell_type": "code",
   "execution_count": 5,
   "metadata": {},
   "outputs": [
    {
     "data": {
      "text/html": [
       "\n",
       "        <iframe\n",
       "            width=\"600\"\n",
       "            height=\"600\"\n",
       "            src=\"http://localhost:8711/app?id=tv\"\n",
       "            frameborder=\"0\"\n",
       "            allowfullscreen\n",
       "        ></iframe>\n",
       "        "
      ],
      "text/plain": [
       "<IPython.lib.display.IFrame at 0x7f9258049160>"
      ]
     },
     "execution_count": 5,
     "metadata": {},
     "output_type": "execute_result"
    }
   ],
   "source": [
    "tv.embed(height=600)"
   ]
  },
  {
   "cell_type": "markdown",
   "metadata": {},
   "source": [
    "To work interactively with the image viewer, we add a canvas to the image and perform the operations subsequently."
   ]
  },
  {
   "cell_type": "code",
   "execution_count": 6,
   "metadata": {},
   "outputs": [],
   "source": [
    "canvas = tv.add_canvas()\n",
    "canvas.delete_all_objects()\n",
    "# set the drawing parameters\n"
   ]
  },
  {
   "cell_type": "code",
   "execution_count": 7,
   "metadata": {},
   "outputs": [],
   "source": [
    "canvas = tv.add_canvas()\n",
    "canvas.set_drawtype('point',size=4, color='black')"
   ]
  },
  {
   "cell_type": "code",
   "execution_count": 8,
   "metadata": {},
   "outputs": [
    {
     "name": "stdout",
     "output_type": "stream",
     "text": [
      "1603.9833333333333 624.835\n",
      "1689.275 720.3616666666667\n",
      "1184.3483333333334 607.7766666666666\n",
      "1204.8183333333334 713.5383333333334\n"
     ]
    }
   ],
   "source": [
    "for i in range(len(canvas.objects)):\n",
    "    k= canvas.objects[i]\n",
    "    print(k.x,k.y)\n",
    "\n"
   ]
  },
  {
   "cell_type": "code",
   "execution_count": 23,
   "metadata": {},
   "outputs": [],
   "source": [
    "canvas.delete_all_objects()"
   ]
  },
  {
   "cell_type": "markdown",
   "metadata": {},
   "source": [
    "Now we have obtained the positions for the source as well as the reference stars in the frame.\n",
    "Next  step is to select the rectangular region to  get the mean FWHM of the sources detected in the selected region.\n",
    "\n",
    "It will give the total number of sources within the selected region."
   ]
  },
  {
   "cell_type": "code",
   "execution_count": 60,
   "metadata": {},
   "outputs": [],
   "source": [
    "canvas=tv.add_canvas()\n",
    "canvas.delete_all_objects()\n",
    "canvas.set_drawtype('square')\n"
   ]
  },
  {
   "cell_type": "code",
   "execution_count": 61,
   "metadata": {},
   "outputs": [
    {
     "name": "stderr",
     "output_type": "stream",
     "text": [
      "/home/vivek/anaconda3/lib/python3.6/site-packages/numpy/core/fromnumeric.py:746: UserWarning: Warning: 'partition' will ignore the 'mask' of the MaskedArray.\n",
      "  a.partition(kth, axis=axis, kind=kind, order=order)\n"
     ]
    }
   ],
   "source": [
    "iq = iqcalc.IQCalc()\n",
    "img = tv.get_image()\n",
    "r = canvas.objects[0]\n",
    "data = img.cutout_shape(r)\n",
    "peaks = iq.find_bright_peaks(data)\n",
    "len(peaks)\n",
    "obj=iq.evaluate_peaks(peaks,data)"
   ]
  },
  {
   "cell_type": "code",
   "execution_count": 64,
   "metadata": {},
   "outputs": [
    {
     "data": {
      "text/plain": [
       "99"
      ]
     },
     "execution_count": 64,
     "metadata": {},
     "output_type": "execute_result"
    }
   ],
   "source": [
    "len(peaks)\n"
   ]
  },
  {
   "cell_type": "markdown",
   "metadata": {},
   "source": [
    "Now we will calculate the FWHM of detected sources from the selected region."
   ]
  },
  {
   "cell_type": "code",
   "execution_count": 63,
   "metadata": {},
   "outputs": [
    {
     "name": "stdout",
     "output_type": "stream",
     "text": [
      "Median FWHM 7.307715506613564 3.8730892185051893\n",
      "Mean FWHM 8.411168611877594 4.457919364295125\n"
     ]
    }
   ],
   "source": [
    "fw=np.zeros(len(obj))\n",
    "for i in range(0,len(obj)):\n",
    "    fw[i]=obj[i]['fwhm']\n",
    "    \n",
    "print('Median FWHM',np.median(fw),0.53*np.median(fw))\n",
    "print('Mean FWHM',np.mean(fw),0.53*np.mean(fw))"
   ]
  },
  {
   "cell_type": "code",
   "execution_count": 18,
   "metadata": {},
   "outputs": [
    {
     "data": {
      "text/plain": [
       "7.880906173404611"
      ]
     },
     "execution_count": 18,
     "metadata": {},
     "output_type": "execute_result"
    }
   ],
   "source": [
    "np.mean(fw)"
   ]
  },
  {
   "cell_type": "code",
   "execution_count": 1,
   "metadata": {},
   "outputs": [
    {
     "ename": "ModuleNotFoundError",
     "evalue": "No module named 'ipyevents'",
     "output_type": "error",
     "traceback": [
      "\u001b[0;31m-------------------------------------------------------------------\u001b[0m",
      "\u001b[0;31mModuleNotFoundError\u001b[0m               Traceback (most recent call last)",
      "\u001b[0;32m<ipython-input-1-f643d10d8023>\u001b[0m in \u001b[0;36m<module>\u001b[0;34m\u001b[0m\n\u001b[0;32m----> 1\u001b[0;31m \u001b[0;32mfrom\u001b[0m \u001b[0mginga\u001b[0m\u001b[0;34m.\u001b[0m\u001b[0mweb\u001b[0m\u001b[0;34m.\u001b[0m\u001b[0mjupyterw\u001b[0m\u001b[0;34m.\u001b[0m\u001b[0mImageViewJpw\u001b[0m \u001b[0;32mimport\u001b[0m \u001b[0mEnhancedCanvasView\u001b[0m\u001b[0;34m\u001b[0m\u001b[0;34m\u001b[0m\u001b[0m\n\u001b[0m\u001b[1;32m      2\u001b[0m \u001b[0;34m\u001b[0m\u001b[0m\n\u001b[1;32m      3\u001b[0m \u001b[0;31m# Ginga viewer for Jupyter notebook.\u001b[0m\u001b[0;34m\u001b[0m\u001b[0;34m\u001b[0m\u001b[0;34m\u001b[0m\u001b[0m\n\u001b[1;32m      4\u001b[0m \u001b[0mv1\u001b[0m \u001b[0;34m=\u001b[0m \u001b[0mEnhancedCanvasView\u001b[0m\u001b[0;34m(\u001b[0m\u001b[0mlogger\u001b[0m\u001b[0;34m=\u001b[0m\u001b[0mlogger\u001b[0m\u001b[0;34m)\u001b[0m\u001b[0;34m\u001b[0m\u001b[0;34m\u001b[0m\u001b[0m\n\u001b[1;32m      5\u001b[0m \u001b[0;34m\u001b[0m\u001b[0m\n",
      "\u001b[0;32m~/anaconda3/lib/python3.6/site-packages/ginga/web/jupyterw/ImageViewJpw.py\u001b[0m in \u001b[0;36m<module>\u001b[0;34m\u001b[0m\n\u001b[1;32m     45\u001b[0m \u001b[0;34m\u001b[0m\u001b[0m\n\u001b[1;32m     46\u001b[0m \"\"\"\n\u001b[0;32m---> 47\u001b[0;31m \u001b[0;32mfrom\u001b[0m \u001b[0mipyevents\u001b[0m \u001b[0;32mimport\u001b[0m \u001b[0mEvent\u001b[0m \u001b[0;32mas\u001b[0m \u001b[0mEventListener\u001b[0m\u001b[0;34m\u001b[0m\u001b[0;34m\u001b[0m\u001b[0m\n\u001b[0m\u001b[1;32m     48\u001b[0m \u001b[0;34m\u001b[0m\u001b[0m\n\u001b[1;32m     49\u001b[0m \u001b[0;32mfrom\u001b[0m \u001b[0mginga\u001b[0m \u001b[0;32mimport\u001b[0m \u001b[0mImageView\u001b[0m\u001b[0;34m,\u001b[0m \u001b[0mAstroImage\u001b[0m\u001b[0;34m\u001b[0m\u001b[0;34m\u001b[0m\u001b[0m\n",
      "\u001b[0;31mModuleNotFoundError\u001b[0m: No module named 'ipyevents'"
     ]
    }
   ],
   "source": [
    "from ginga.web.jupyterw.ImageViewJpw import EnhancedCanvasView\n",
    "\n",
    "# Ginga viewer for Jupyter notebook.\n",
    "v1 = EnhancedCanvasView(logger=logger)\n",
    "\n",
    "# Set our linkage between the Jupyter widget at Ginga viewer.\n",
    "v1.set_widget(jup_img)\n",
    "\n",
    "# Enable all possible keyboard and pointer operations.\n",
    "bd = v1.get_bindings()\n",
    "bd.enable_all(True)"
   ]
  },
  {
   "cell_type": "code",
   "execution_count": null,
   "metadata": {},
   "outputs": [],
   "source": []
  }
 ],
 "metadata": {
  "kernelspec": {
   "display_name": "Python 3",
   "language": "python",
   "name": "python3"
  },
  "language_info": {
   "codemirror_mode": {
    "name": "ipython",
    "version": 3
   },
   "file_extension": ".py",
   "mimetype": "text/x-python",
   "name": "python",
   "nbconvert_exporter": "python",
   "pygments_lexer": "ipython3",
   "version": "3.6.10"
  }
 },
 "nbformat": 4,
 "nbformat_minor": 2
}

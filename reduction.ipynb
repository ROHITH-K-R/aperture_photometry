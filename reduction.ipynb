{
 "cells": [
  {
   "cell_type": "code",
   "execution_count": 1,
   "metadata": {
    "collapsed": true
   },
   "outputs": [],
   "source": [
    "import numpy as np\n",
    "import ccdproc\n",
    "from astropy import units as u"
   ]
  },
  {
   "cell_type": "code",
   "execution_count": 12,
   "metadata": {
    "collapsed": false,
    "scrolled": true
   },
   "outputs": [],
   "source": [
    "import os\n",
    "dir = '/home/twinkle/Documents/adfosc/2019-06-14-adfosc/109_956/fast_gain/'\n",
    "from glob import glob\n",
    "a = sorted(glob(os.path.join(dir,'bias*.fit')))"
   ]
  },
  {
   "cell_type": "code",
   "execution_count": 13,
   "metadata": {
    "collapsed": false,
    "scrolled": true
   },
   "outputs": [
    {
     "name": "stdout",
     "output_type": "stream",
     "text": [
      "[[ 6299.69970703  6313.5         6306.60009766 ...,  6298.54980469\n",
      "   6269.79980469  6354.89990234]\n",
      " [ 6296.25        6287.04980469  6335.35009766 ...,  6270.94970703\n",
      "   6305.44970703  6323.85009766]\n",
      " [ 6313.5         6307.75        6307.75       ...,  6283.60009766\n",
      "   6358.35009766  6299.69970703]\n",
      " ..., \n",
      " [ 6238.75        6305.44970703  6260.60009766 ...,  6231.85009766\n",
      "   6230.69970703  6258.29980469]\n",
      " [ 6292.79980469  6304.29980469  6315.79980469 ...,  6290.5         6339.94970703\n",
      "   6292.79980469]\n",
      " [ 6314.64990234  6280.14990234  6284.75       ...,  6312.35009766\n",
      "   6352.60009766  6188.14990234]]\n"
     ]
    }
   ],
   "source": [
    "gain = 1.15 * u.electron / u.adu\n",
    "readnoise = 10 * u.electron\n",
    "image=ccdproc.CCDData.read(os.path.join(dir,'mbias.fit'),unit='adu')\n",
    "image=ccdproc.create_deviation(image, gain=gain, readnoise=readnoise)\n",
    "image = ccdproc.gain_correct(image, gain)\n",
    "header=image.header\n",
    "print(image)"
   ]
  },
  {
   "cell_type": "code",
   "execution_count": 11,
   "metadata": {
    "collapsed": false
   },
   "outputs": [
    {
     "name": "stderr",
     "output_type": "stream",
     "text": [
      "INFO:astropy:using the unit adu passed to the FITS reader instead of the unit adu in the FITS file.\n"
     ]
    },
    {
     "name": "stdout",
     "output_type": "stream",
     "text": [
      "INFO: using the unit adu passed to the FITS reader instead of the unit adu in the FITS file. [astropy.nddata.ccddata]\n",
      "[[ 5478.  5490.  5484. ...,  5477.  5452.  5526.]\n",
      " [ 5475.  5467.  5509. ...,  5453.  5483.  5499.]\n",
      " [ 5490.  5485.  5485. ...,  5464.  5529.  5478.]\n",
      " ..., \n",
      " [ 5425.  5483.  5444. ...,  5419.  5418.  5442.]\n",
      " [ 5472.  5482.  5492. ...,  5470.  5513.  5472.]\n",
      " [ 5491.  5461.  5465. ...,  5489.  5524.  5381.]]\n"
     ]
    }
   ],
   "source": [
    "gain = 1.15 * u.electron / u.adu\n",
    "readnoise = 10 * u.electron\n",
    "biaslist = []\n",
    "for i in range (0,len(a)):\n",
    "    b=a[i]\n",
    "    data= ccdproc.CCDData.read(b,unit='adu')\n",
    "    #data = ccdproc.create_deviation(data, gain=gain, readnoise=readnoise)\n",
    "    #data= data-(data.uncertainty.array)\n",
    "    biaslist.append(data)\n",
    "combiner = ccdproc.Combiner(biaslist)\n",
    "masterbias = combiner.median_combine()   \n",
    "masterbias.write('masterbias.fit', overwrite=True)\n",
    "mbias=ccdproc.CCDData.read('masterbias.fit',unit='adu')\n",
    "masterbias.meta=image.meta\n",
    "print(masterbias)\n"
   ]
  },
  {
   "cell_type": "code",
   "execution_count": null,
   "metadata": {
    "collapsed": false
   },
   "outputs": [],
   "source": [
    "c=sorted(glob(os.path.join(dir,'blank*.fit')))\n",
    "flatlist = []\n",
    "for j in range(0,len(c)):\n",
    "    d=c[j]\n",
    "    flat=ccdproc.CCDData.read(d,unit='adu')\n",
    "    flat=ccdproc.subtract_bias(flat,masterbias)\n",
    "    flatlist.append(flat)\n",
    "combiner = ccdproc.Combiner(flatlist)\n",
    "masterflat = combiner.median_combine()\n",
    "masterflat.write('masterflat.fit', overwrite=True)\n",
    "mflat=ccdproc.CCDData.read('masterflat.fit',unit='adu')\n",
    "masterflat.meta=image.meta\n",
    "\n",
    "    \n",
    "    \n",
    "\n",
    "   \n",
    "    \n",
    "  \n",
    "    "
   ]
  },
  {
   "cell_type": "code",
   "execution_count": null,
   "metadata": {
    "collapsed": false
   },
   "outputs": [],
   "source": [
    "# remove mbias and mflat\n",
    "e = sorted(glob(os.path.join(dir,'109*.fit')))\n",
    "for j in range(0,len(c)):\n",
    "    f=e[j]\n",
    "    image=ccdproc.CCDData.read(f,unit='adu')\n",
    "    bias_subtracted = ccdproc.subtract_bias(image, masterbias)\n",
    "    reduced_image = ccdproc.flat_correct(bias_subtracted, masterflat)\n",
    "print(reduced_image)    "
   ]
  },
  {
   "cell_type": "code",
   "execution_count": null,
   "metadata": {
    "collapsed": true
   },
   "outputs": [],
   "source": [
    "cr_cleaned = ccdproc.cosmicray_lacosmic(gain_corrected, sigclip=5)\n"
   ]
  },
  {
   "cell_type": "code",
   "execution_count": null,
   "metadata": {
    "collapsed": true
   },
   "outputs": [],
   "source": []
  }
 ],
 "metadata": {
  "kernelspec": {
   "display_name": "Python 3",
   "language": "python",
   "name": "python3"
  },
  "language_info": {
   "codemirror_mode": {
    "name": "ipython",
    "version": 3
   },
   "file_extension": ".py",
   "mimetype": "text/x-python",
   "name": "python",
   "nbconvert_exporter": "python",
   "pygments_lexer": "ipython3",
   "version": "3.6.8"
  }
 },
 "nbformat": 4,
 "nbformat_minor": 2
}
